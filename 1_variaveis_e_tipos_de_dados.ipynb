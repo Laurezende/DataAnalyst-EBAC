{
  "nbformat": 4,
  "nbformat_minor": 0,
  "metadata": {
    "colab": {
      "name": "1_variaveis_e_tipos_de_dados.ipynb",
      "provenance": []
    },
    "kernelspec": {
      "name": "python3",
      "display_name": "Python 3"
    },
    "language_info": {
      "name": "python"
    }
  },
  "cells": [
    {
      "cell_type": "markdown",
      "source": [
        "**1.0 Números**"
      ],
      "metadata": {
        "id": "gsDtUyfv2GF4"
      }
    },
    {
      "cell_type": "markdown",
      "source": [
        "**1.1 Preenchendo células de código com os valores de (A), (B) e (C) na tabela de\n",
        "ticket médio abaixo**\n",
        "\n",
        "| Dia   | Valor Total Vendas | Qtd Total Vendas | Ticket Médio |\n",
        "|-------|--------------------|------------------|--------------|\n",
        "| 19/01 | (A)                | 3                | 320.52       |\n",
        "| 20/01 | 834.47             | (B)              | 119.21       |\n",
        "| 23/01 | 15378.12           | 5                | (C)          |"
      ],
      "metadata": {
        "id": "tAQmSPMjf42x"
      }
    },
    {
      "cell_type": "code",
      "execution_count": 1,
      "metadata": {
        "colab": {
          "base_uri": "https://localhost:8080/"
        },
        "id": "UTOsrgsGfgzc",
        "outputId": "8ebfe927-b1b9-4273-d6b8-893c3f940229"
      },
      "outputs": [
        {
          "output_type": "stream",
          "name": "stdout",
          "text": [
            "961.56\n"
          ]
        }
      ],
      "source": [
        "#(A)\n",
        "Qtd_Total_Vendas_19 = 3\n",
        "Ticket_Medio_19 = 320.52\n",
        "\n",
        "Valor_Total_Vendas_19 = Qtd_Total_Vendas_19 * Ticket_Medio_19\n",
        "print(Valor_Total_Vendas_19)"
      ]
    },
    {
      "cell_type": "code",
      "source": [
        "#(B)\n",
        "Valor_Total_Vendas_20 = 834.47\n",
        "Ticket_Medio_20 = 119.21\n",
        "\n",
        "Qtd_Total_Vendas_20 = Valor_Total_Vendas_20 / Ticket_Medio_20\n",
        "print(Qtd_Total_Vendas_20)"
      ],
      "metadata": {
        "colab": {
          "base_uri": "https://localhost:8080/"
        },
        "id": "N3fBFfDTiZEG",
        "outputId": "925f6c52-8067-439b-bcbe-fafcd76dc7d0"
      },
      "execution_count": 3,
      "outputs": [
        {
          "output_type": "stream",
          "name": "stdout",
          "text": [
            "7.000000000000001\n"
          ]
        }
      ]
    },
    {
      "cell_type": "code",
      "source": [
        "#(C)\n",
        "Valor_Total_Vendas_23 = 15378.12\n",
        "Qtd_Total_Vendas_23 = 5\n",
        "\n",
        "Ticket_Medio_23 = Valor_Total_Vendas_23 / Qtd_Total_Vendas_23\n",
        "print(Ticket_Medio_23)"
      ],
      "metadata": {
        "colab": {
          "base_uri": "https://localhost:8080/"
        },
        "id": "SKlCcE24i_Fo",
        "outputId": "e77b37c9-6d7c-458e-da0b-7deac74b008c"
      },
      "execution_count": 4,
      "outputs": [
        {
          "output_type": "stream",
          "name": "stdout",
          "text": [
            "3075.6240000000003\n"
          ]
        }
      ]
    },
    {
      "cell_type": "markdown",
      "source": [
        "**2.0 Strings**"
      ],
      "metadata": {
        "id": "a5rVsMZ62QmG"
      }
    },
    {
      "cell_type": "markdown",
      "source": [
        "**2.1 Aplicando três métodos distintos na string abaixo**"
      ],
      "metadata": {
        "id": "Bmcwx50EjX2Z"
      }
    },
    {
      "cell_type": "code",
      "source": [
        "cancao = 'Roda mundo, roda gigante, roda moinho, roda pião.'\n",
        "\n",
        "cancao.casefold()"
      ],
      "metadata": {
        "colab": {
          "base_uri": "https://localhost:8080/",
          "height": 35
        },
        "id": "ZPQxBmkXjyQX",
        "outputId": "516cf0e1-cf3e-42a0-97b6-01355a760537"
      },
      "execution_count": 7,
      "outputs": [
        {
          "output_type": "execute_result",
          "data": {
            "text/plain": [
              "'roda mundo, roda gigante, roda moinho, roda pião.'"
            ],
            "application/vnd.google.colaboratory.intrinsic+json": {
              "type": "string"
            }
          },
          "metadata": {},
          "execution_count": 7
        }
      ]
    },
    {
      "cell_type": "code",
      "source": [
        "cancao.upper()"
      ],
      "metadata": {
        "colab": {
          "base_uri": "https://localhost:8080/",
          "height": 35
        },
        "id": "zwQ76gbz0qbF",
        "outputId": "05637c5f-4a44-47f8-bce8-f2cf3187fa39"
      },
      "execution_count": 8,
      "outputs": [
        {
          "output_type": "execute_result",
          "data": {
            "text/plain": [
              "'RODA MUNDO, RODA GIGANTE, RODA MOINHO, RODA PIÃO.'"
            ],
            "application/vnd.google.colaboratory.intrinsic+json": {
              "type": "string"
            }
          },
          "metadata": {},
          "execution_count": 8
        }
      ]
    },
    {
      "cell_type": "code",
      "source": [
        "cancao.title()"
      ],
      "metadata": {
        "colab": {
          "base_uri": "https://localhost:8080/",
          "height": 35
        },
        "id": "xQrAyY7B0i_v",
        "outputId": "c174bc42-362a-471a-8d9d-3d642b5f42aa"
      },
      "execution_count": 6,
      "outputs": [
        {
          "output_type": "execute_result",
          "data": {
            "text/plain": [
              "'Roda Mundo, Roda Gigante, Roda Moinho, Roda Pião.'"
            ],
            "application/vnd.google.colaboratory.intrinsic+json": {
              "type": "string"
            }
          },
          "metadata": {},
          "execution_count": 6
        }
      ]
    },
    {
      "cell_type": "markdown",
      "source": [
        "**2.2 Extraindo da string abaixo o valor da taxa selic na variável selic e o valor do ano na\n",
        "variavel ano**"
      ],
      "metadata": {
        "id": "Kbk4bQoJj312"
      }
    },
    {
      "cell_type": "code",
      "source": [
        "noticia = 'Selic vai a 2,75% e supera expectativas; é a primeira alta em 6 anos.'"
      ],
      "metadata": {
        "id": "ivHF2ccIjy9G"
      },
      "execution_count": 9,
      "outputs": []
    },
    {
      "cell_type": "code",
      "source": [
        "#Selic\n",
        "posicao_percentual = noticia.find('%')\n",
        "selic = noticia[posicao_percentual-4:posicao_percentual]\n",
        "print(posicao_percentual)\n",
        "print(selic)"
      ],
      "metadata": {
        "colab": {
          "base_uri": "https://localhost:8080/"
        },
        "id": "MkpZZmeD0xIg",
        "outputId": "4e91d805-6ba2-4874-d368-3e3fad6a0103"
      },
      "execution_count": 12,
      "outputs": [
        {
          "output_type": "stream",
          "name": "stdout",
          "text": [
            "16\n",
            "2,75\n"
          ]
        }
      ]
    },
    {
      "cell_type": "code",
      "source": [
        "#Ano\n",
        "posicao_ano = noticia.find('ano')\n",
        "ano = noticia[posicao_ano -2: posicao_ano]\n",
        "print(posicao_ano)\n",
        "print(ano)"
      ],
      "metadata": {
        "colab": {
          "base_uri": "https://localhost:8080/"
        },
        "id": "0Jago_Pf1ZyS",
        "outputId": "2af6493d-ce89-41f9-d76f-b19c9b670289"
      },
      "execution_count": 13,
      "outputs": [
        {
          "output_type": "stream",
          "name": "stdout",
          "text": [
            "64\n",
            "6 \n"
          ]
        }
      ]
    },
    {
      "cell_type": "markdown",
      "source": [
        "**3.0 Booleanos**"
      ],
      "metadata": {
        "id": "kR1ROjWC2A0N"
      }
    },
    {
      "cell_type": "markdown",
      "source": [
        "**3.1 Utilizando a tabela da verdade para responder: Qual o valor da variável x?**\n",
        "\n",
        "| **A**    | **B**    | **A OR B** | **A AND B** | **NOT A** |\n",
        "|----------|----------|------------|-------------|-----------|\n",
        "| **TRUE** | **TRUE** | **TRUE**   | **TRUE**    | FALSE     |\n",
        "| **TRUE** | FALSE    | **TRUE**   | FALSE       | FALSE     |\n",
        "| FALSE    | FALSE    | FALSE      | FALSE       | **TRUE**  |\n",
        "| FALSE    | **TRUE** | **TRUE**   | FALSE       | **TRUE**  |"
      ],
      "metadata": {
        "id": "PmbY8qX-2Ywx"
      }
    },
    {
      "cell_type": "code",
      "source": [
        "a = False\n",
        "b = True\n",
        "\n",
        "x = not a & b\n",
        "\n",
        "print(False & True)\n",
        "print(not False)\n",
        "\n",
        "x = not False\n",
        "print(x)"
      ],
      "metadata": {
        "colab": {
          "base_uri": "https://localhost:8080/"
        },
        "id": "QsiqDYWt2gB8",
        "outputId": "3efeadfa-7085-4539-9163-38904d43dcf9"
      },
      "execution_count": 16,
      "outputs": [
        {
          "output_type": "stream",
          "name": "stdout",
          "text": [
            "False\n",
            "True\n",
            "True\n"
          ]
        }
      ]
    }
  ]
}